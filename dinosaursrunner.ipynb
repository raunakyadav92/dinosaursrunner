{
  "nbformat": 4,
  "nbformat_minor": 0,
  "metadata": {
    "colab": {
      "provenance": [],
      "authorship_tag": "ABX9TyMnZvqyyYh2yqYUWxDI+cfo",
      "include_colab_link": true
    },
    "kernelspec": {
      "name": "python3",
      "display_name": "Python 3"
    },
    "language_info": {
      "name": "python"
    }
  },
  "cells": [
    {
      "cell_type": "markdown",
      "metadata": {
        "id": "view-in-github",
        "colab_type": "text"
      },
      "source": [
        "<a href=\"https://colab.research.google.com/github/raunakyadav92/dinosaursrunner/blob/main/dinosaursrunner.ipynb\" target=\"_parent\"><img src=\"https://colab.research.google.com/assets/colab-badge.svg\" alt=\"Open In Colab\"/></a>"
      ]
    },
    {
      "cell_type": "code",
      "execution_count": null,
      "metadata": {
        "id": "rLDAeTIDwuy2"
      },
      "outputs": [],
      "source": [
        "import pygame\n",
        "import random\n",
        "\n",
        "pygame.init()\n",
        "\n",
        "# Setup\n",
        "WIDTH, HEIGHT = 600, 300\n",
        "screen = pygame.display.set_mode((WIDTH, HEIGHT))\n",
        "pygame.display.set_caption(\"Dino Runner Game\")\n",
        "\n",
        "clock = pygame.time.Clock()\n",
        "\n",
        "# Colors\n",
        "WHITE = (255, 255, 255)\n",
        "BLACK = (0, 0, 0)\n",
        "\n",
        "# Dino\n",
        "dino = pygame.Rect(50, 220, 30, 30)\n",
        "dino_vel_y = 0\n",
        "gravity = 0.8\n",
        "jumping = False\n",
        "\n",
        "# Obstacle\n",
        "obstacle = pygame.Rect(600, 240, 20, 40)\n",
        "obstacle_speed = 5\n",
        "\n",
        "score = 0\n",
        "font = pygame.font.SysFont(None, 36)\n",
        "\n",
        "running = True\n",
        "while running:\n",
        "    screen.fill(WHITE)\n",
        "    pygame.draw.rect(screen, BLACK, dino)\n",
        "    pygame.draw.rect(screen, (0, 150, 0), obstacle)\n",
        "\n",
        "    score_text = font.render(f\"Score: {score}\", True, BLACK)\n",
        "    screen.blit(score_text, (10, 10))\n",
        "\n",
        "    # Move Dino\n",
        "    dino.y += dino_vel_y\n",
        "    if dino.y >= 220:\n",
        "        dino.y = 220\n",
        "        jumping = False\n",
        "\n",
        "    dino_vel_y += gravity\n",
        "\n",
        "    # Move Obstacle\n",
        "    obstacle.x -= obstacle_speed\n",
        "    if obstacle.x < -20:\n",
        "        obstacle.x = 600\n",
        "        score += 1\n",
        "\n",
        "    # Collision\n",
        "    if dino.colliderect(obstacle):\n",
        "        print(\"❌ Game Over!\")\n",
        "        running = False\n",
        "\n",
        "    # Events\n",
        "    for event in pygame.event.get():\n",
        "        if event.type == pygame.QUIT:\n",
        "            running = False\n",
        "    keys = pygame.key.get_pressed()\n",
        "    if keys[pygame.K_SPACE] and not jumping:\n",
        "        dino_vel_y = -15\n",
        "        jumping = True\n",
        "\n",
        "    pygame.display.flip()\n",
        "    clock.tick(30)\n",
        "\n",
        "pygame.quit()\n"
      ]
    }
  ]
}